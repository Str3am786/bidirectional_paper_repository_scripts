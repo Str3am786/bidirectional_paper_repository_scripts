{
 "cells": [
  {
   "cell_type": "code",
   "execution_count": 1,
   "metadata": {},
   "outputs": [],
   "source": [
    "import numpy as np\n",
    "import matplotlib.pyplot as plt\n",
    "import torch\n",
    "import pickle as pkl\n",
    "%matplotlib inline"
   ]
  },
  {
   "cell_type": "code",
   "execution_count": 2,
   "metadata": {},
   "outputs": [],
   "source": [
    "#!rsync -au hoangtha@faramir.it.deakin.edu.au:/home/hoangtha/github/gan_stability/output/imagenet_TTUR/ ."
   ]
  },
  {
   "cell_type": "code",
   "execution_count": 3,
   "metadata": {},
   "outputs": [],
   "source": [
    "root = '/home/thanhtung/Desktop/'\n",
    "log_0gp = root + './imagenet_GAN0GP/logs/stats.p'\n",
    "log_0gp_ttur = root + './imagenet_TTUR/logs/stats.p' \n",
    "log_0real = root + './imagenet_0real/logs/stats.p'\n",
    "log_0real_ttur = root + './imagenet_0real_TTUR/logs/stats.p'\n",
    "log_wgangp5_ttur = root + './imagenet_wgangp5_TTUR/logs/stats.p'\n",
    "log_wgan0gp5_ttur = root + './imagenet_wgan0gp5_TTUR/logs/stats.p'\n",
    "log_wgan0gp5_100_ttur = root + './imagenet_wgan0gp5_lambda100_TTUR/logs/stats.p'\n",
    "log_wgan0gp5_500_ttur = root + './imagenet_wgan0gp5_lambda500_TTUR/logs/stats.p'\n",
    "\n",
    "def load_inception(file, length=100):\n",
    "    with open(file, 'rb') as f:\n",
    "        stats = pkl.load(f)\n",
    "        inception = stats['inception_score']\n",
    "    return np.array(inception['mean'])[:length], np.array(inception['stddev'])[:length]\n",
    "\n",
    "inception_0gp_mean, inception_0gp_stddev = load_inception(log_0gp)\n",
    "inception_0gp_ttur_mean, inception_0gp_ttur_stddev = load_inception(log_0gp_ttur)\n",
    "inception_0real_mean, inception_0real_stddev = load_inception(log_0real)\n",
    "inception_0real_ttur_mean, inception_0real_ttur_stddev = load_inception(log_0real_ttur)\n",
    "inception_wgangp5_ttur_mean, inception_wgangp5_ttur_stddev = load_inception(log_wgangp5_ttur)\n",
    "inception_wgan0gp5_ttur_mean, inception_wgan0gp5_ttur_stddev = load_inception(log_wgan0gp5_ttur)\n",
    "inception_wgan0gp5_100_ttur_mean, inception_wgan0gp5_100_ttur_stddev = load_inception(log_wgan0gp5_100_ttur)\n",
    "inception_wgan0gp5_500_ttur_mean, inception_wgan0gp5_500_ttur_stddev = load_inception(log_wgan0gp5_500_ttur)"
   ]
  },
  {
   "cell_type": "code",
   "execution_count": 4,
   "metadata": {},
   "outputs": [
    {
     "data": {
      "image/png": "[encoded data removed]",
      "text/plain": [
       "<matplotlib.figure.Figure at 0x7f5646b6e8d0>"
      ]
     },
     "metadata": {},
     "output_type": "display_data"
    }
   ],
   "source": [
    "start = 1\n",
    "step = 5\n",
    "fig, ax = plt.subplots(1, 1,figsize=(8, 5))\n",
    "\n",
    "x = np.arange(len(inception_0gp_ttur_mean)) * 10000 + 10000\n",
    "i0gp_ttur = ax.errorbar(x[start::step], inception_0gp_ttur_mean[start::step, 1], inception_0gp_ttur_stddev[start::step, 1], c='g', linestyle=':', label='GAN-0-GP-TTUR')\n",
    "\n",
    "x = np.arange(len(inception_0real_ttur_mean)) * 10000 + 10000\n",
    "i0real_ttur = ax.errorbar(x[start::step], inception_0real_ttur_mean[start::step, 1], inception_0real_ttur_stddev[start::step, 1], c='b', linestyle='--', label='GAN-0-sample-TTUR')\n",
    "\n",
    "# x = np.arange(len(inception_0real_mean)) * 10000\n",
    "# i0real = ax.errorbar(x, inception_0real_mean[:, 1], inception_0real_stddev[:, 1], c='k', label='GAN-0real')\n",
    "\n",
    "x = np.arange(len(inception_wgangp5_ttur_mean)) * 10000 + 10000\n",
    "iwgangp5_ttur = ax.errorbar(x[start::step], inception_wgangp5_ttur_mean[start::step, 1], inception_wgangp5_ttur_stddev[start::step, 1], c='r', linestyle='-', label='WGAN-GP5-TTUR')\n",
    "\n",
    "# x = np.arange(len(inception_wgan0gp5_ttur_mean)) * 10000 + 10000\n",
    "# iwgan0gp5_ttur = ax.errorbar(x[start::step], inception_wgan0gp5_ttur_mean[start::step, 1], inception_wgan0gp5_ttur_stddev[start::step, 1], c='m', linestyle='-.', label='WGAN-0-GP5-TTUR')\n",
    "\n",
    "#x = np.arange(len(inception_wgan0gp5_100_ttur_mean)) * 10000 + 10000\n",
    "#iwgan0gp5_100_ttur = ax.errorbar(x[start::step], inception_wgan0gp5_100_ttur_mean[start::step, 1], inception_wgan0gp5_100_ttur_stddev[start::step, 1], c='y', linestyle='-.', label='WGAN-0-GP5-100-TTUR')\n",
    "\n",
    "# x = np.arange(len(inception_wgan0gp5_500_ttur_mean)) * 10000 + 10000\n",
    "# iwgan0gp5_500_ttur = ax.errorbar(x[start::step], inception_wgan0gp5_500_ttur_mean[start::step, 1], inception_wgan0gp5_500_ttur_stddev[start::step, 1], c='y', linestyle='-.', label='WGAN-0-GP5-500-TTUR')\n",
    "\n",
    "ax.set_xlabel('Generator Iteration')\n",
    "ax.set_ylabel('Inception score')\n",
    "ax.legend()\n",
    "plt.show()\n",
    "fig.savefig('inception_plot.pdf', bbox_inches='tight')"
   ]
  },
  {
   "cell_type": "code",
   "execution_count": 5,
   "metadata": {},
   "outputs": [],
   "source": [
    "# max(inception_0gp_mean[:len(inception_0real_ttur_mean), 1])"
   ]
  },
  {
   "cell_type": "code",
   "execution_count": 6,
   "metadata": {},
   "outputs": [],
   "source": [
    "# max(inception_0gp_ttur_mean[:, 1])"
   ]
  },
  {
   "cell_type": "code",
   "execution_count": 7,
   "metadata": {},
   "outputs": [],
   "source": [
    "# max(inception_0real_mean[:, 1])"
   ]
  },
  {
   "cell_type": "code",
   "execution_count": 8,
   "metadata": {},
   "outputs": [],
   "source": [
    "# max(inception_0real_ttur_mean[:len(inception_0gp_ttur_mean), 1])"
   ]
  },
  {
   "cell_type": "code",
   "execution_count": 9,
   "metadata": {},
   "outputs": [],
   "source": [
    "# (max(inception_0gp_ttur_mean[:, 1]) - max(inception_0real_ttur_mean[:len(inception_0gp_ttur_mean), 1])) / max(inception_0real_ttur_mean[:len(inception_0gp_ttur_mean), 1])"
   ]
  },
  {
   "cell_type": "code",
   "execution_count": 10,
   "metadata": {},
   "outputs": [],
   "source": [
    "# (max(inception_0gp_mean[:, 1]) - max(inception_0real_ttur_mean[:len(inception_0gp_ttur_mean), 1])) / max(inception_0real_ttur_mean[:len(inception_0gp_ttur_mean), 1])"
   ]
  },
  {
   "cell_type": "code",
   "execution_count": 11,
   "metadata": {},
   "outputs": [],
   "source": [
    "# import pickle as pkl\n",
    "# import numpy as np\n",
    "\n",
    "# log_0gp = './output/imagenet_GAN0GP/logs/stats.p'\n",
    "# log_0gp_ttur = './output/imagenet_TTUR/logs/stats.p' \n",
    "# log_0real = './output/imagenet_0real/logs/stats.p'\n",
    "# log_0real_ttur = './output/imagenet_0real_TTUR/logs/stats.p'\n",
    "\n",
    "# def load_inception(file):\n",
    "#     with open(file, 'rb') as f:\n",
    "#         stats = pkl.load(f)\n",
    "#         inception = stats['inception_score']\n",
    "#     return np.array(inception['mean']), np.array(inception['stddev'])\n",
    "\n",
    "# try:\n",
    "#     print('0gp')\n",
    "#     inception_0gp_mean, inception_0gp_stddev = load_inception(log_0gp)\n",
    "#     print(len(inception_0gp_mean))\n",
    "#     print(max(inception_0gp_mean[:, 1]))\n",
    "# except:\n",
    "#     print('0gp not available')\n",
    "# try:\n",
    "#     print('0gp_ttur')\n",
    "#     inception_0gp_ttur_mean, inception_0gp_ttur_stddev = load_inception(log_0gp_ttur)\n",
    "#     print(len(inception_0gp_ttur_mean))\n",
    "#     print(max(inception_0gp_ttur_mean[:, 1]))\n",
    "# except:\n",
    "#     print('0gp_ttur not available')\n",
    "# try:\n",
    "#     print('0real')\n",
    "#     inception_0real_mean, inception_0real_stddev = load_inception(log_0real)\n",
    "#     print(len(inception_0real_mean))\n",
    "#     print(max(inception_0real_mean[:, 1]))\n",
    "# except:\n",
    "#     print('0real not available')\n",
    "# try:\n",
    "#     print('0real_ttur')\n",
    "#     inception_0real_ttur_mean, inception_0real_ttur_stddev = load_inception(log_0real_ttur)\n",
    "#     print(len(inception_0real_ttur_mean))\n",
    "#     print(max(inception_0real_ttur_mean[:, 1]))    \n",
    "# except:\n",
    "#     print('0real_ttur not available')"
   ]
  },
  {
   "cell_type": "code",
   "execution_count": null,
   "metadata": {},
   "outputs": [],
   "source": []
  }
 ],
 "metadata": {
  "kernelspec": {
   "display_name": "Python 3",
   "language": "python",
   "name": "python3"
  },
  "language_info": {
   "codemirror_mode": {
    "name": "ipython",
    "version": 3
   },
   "file_extension": ".py",
   "mimetype": "text/x-python",
   "name": "python",
   "nbconvert_exporter": "python",
   "pygments_lexer": "ipython3",
   "version": "3.6.4"
  }
 },
 "nbformat": 4,
 "nbformat_minor": 2
}
